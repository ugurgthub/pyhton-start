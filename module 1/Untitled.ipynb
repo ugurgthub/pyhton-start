{
 "cells": [
  {
   "cell_type": "code",
   "execution_count": 2,
   "id": "d9781a7f-05f0-4dbe-9a19-ec193ab19513",
   "metadata": {},
   "outputs": [
    {
     "name": "stdout",
     "output_type": "stream",
     "text": [
      "helloword\n"
     ]
    }
   ],
   "source": [
    "print ('helloword')\n"
   ]
  },
  {
   "cell_type": "code",
   "execution_count": 4,
   "id": "f3034843-f19f-47a0-9bf6-0e52b9e6f4a4",
   "metadata": {},
   "outputs": [
    {
     "name": "stdout",
     "output_type": "stream",
     "text": [
      "pyhthona hoşgeldiniz\n"
     ]
    }
   ],
   "source": [
    "print('pyhthona hoşgeldiniz')"
   ]
  },
  {
   "cell_type": "code",
   "execution_count": 6,
   "id": "8a251ddd-46bd-48f5-ad39-005270d5b9f3",
   "metadata": {},
   "outputs": [
    {
     "ename": "KeyboardInterrupt",
     "evalue": "",
     "output_type": "error",
     "traceback": [
      "\u001b[1;31m---------------------------------------------------------------------------\u001b[0m",
      "\u001b[1;31mKeyboardInterrupt\u001b[0m                         Traceback (most recent call last)",
      "Cell \u001b[1;32mIn[6], line 1\u001b[0m\n\u001b[1;32m----> 1\u001b[0m \u001b[38;5;28;01mwhile\u001b[39;00m \u001b[38;5;28;01mTrue\u001b[39;00m:\n\u001b[0;32m      2\u001b[0m     \u001b[38;5;28;01mpass\u001b[39;00m\n",
      "\u001b[1;31mKeyboardInterrupt\u001b[0m: "
     ]
    }
   ],
   "source": [
    "while True:\n",
    "    pass\n"
   ]
  },
  {
   "cell_type": "code",
   "execution_count": 1,
   "id": "d28ebbd5-8404-4098-abcc-cfd81a9b8f90",
   "metadata": {},
   "outputs": [
    {
     "data": {
      "text/plain": [
       "8"
      ]
     },
     "execution_count": 1,
     "metadata": {},
     "output_type": "execute_result"
    }
   ],
   "source": [
    "3+5"
   ]
  },
  {
   "cell_type": "code",
   "execution_count": null,
   "id": "dd0684ab-e729-4651-9cb5-6c9b7144f29f",
   "metadata": {},
   "outputs": [],
   "source": [
    "print('helloword')"
   ]
  },
  {
   "cell_type": "code",
   "execution_count": null,
   "id": "e3a87a1e-7adc-43a5-915d-e4ddf546b5fc",
   "metadata": {},
   "outputs": [],
   "source": [
    "print('helloword')"
   ]
  },
  {
   "cell_type": "code",
   "execution_count": null,
   "id": "71407fc6-6814-4dc5-9dfd-1a5a3c955474",
   "metadata": {},
   "outputs": [],
   "source": [
    "print('helloword')"
   ]
  },
  {
   "cell_type": "code",
   "execution_count": 2,
   "id": "6d4025b4-476c-4037-a7b7-570a1055ad42",
   "metadata": {},
   "outputs": [],
   "source": [
    "murat=8"
   ]
  },
  {
   "cell_type": "markdown",
   "id": "93bacf90-983f-408f-bcd6-78ef2fed66e3",
   "metadata": {},
   "source": [
    "murat"
   ]
  },
  {
   "cell_type": "code",
   "execution_count": null,
   "id": "28076eef-d5a7-45e6-847e-027951838c0d",
   "metadata": {},
   "outputs": [],
   "source": []
  },
  {
   "cell_type": "code",
   "execution_count": null,
   "id": "0175928d-3690-48c5-869e-0bbc4f75687e",
   "metadata": {},
   "outputs": [],
   "source": [
    "print ('pyhton')\n",
    "    "
   ]
  },
  {
   "cell_type": "code",
   "execution_count": 3,
   "id": "6c387f08-c330-4019-8199-9a46b2e5964a",
   "metadata": {},
   "outputs": [],
   "source": [
    "i=5"
   ]
  },
  {
   "cell_type": "code",
   "execution_count": 5,
   "id": "a4e036f3-e890-40c6-834d-a802f1625457",
   "metadata": {},
   "outputs": [
    {
     "data": {
      "text/plain": [
       "5"
      ]
     },
     "execution_count": 5,
     "metadata": {},
     "output_type": "execute_result"
    }
   ],
   "source": [
    "i"
   ]
  },
  {
   "cell_type": "code",
   "execution_count": 6,
   "id": "09928ebf-ab63-4206-9d4a-906bde8a9c1d",
   "metadata": {},
   "outputs": [],
   "source": [
    "murat=9"
   ]
  },
  {
   "cell_type": "code",
   "execution_count": 7,
   "id": "cfc16307-6215-40ed-b8a9-6dc1bff92006",
   "metadata": {},
   "outputs": [
    {
     "data": {
      "text/plain": [
       "9"
      ]
     },
     "execution_count": 7,
     "metadata": {},
     "output_type": "execute_result"
    }
   ],
   "source": [
    "murat"
   ]
  },
  {
   "cell_type": "code",
   "execution_count": 8,
   "id": "8346bca8-c0b2-4070-940f-47add7008462",
   "metadata": {},
   "outputs": [
    {
     "ename": "SyntaxError",
     "evalue": "invalid syntax (3733891841.py, line 1)",
     "output_type": "error",
     "traceback": [
      "\u001b[1;36m  Cell \u001b[1;32mIn[8], line 1\u001b[1;36m\u001b[0m\n\u001b[1;33m    ozan nerede = sikişte\u001b[0m\n\u001b[1;37m         ^\u001b[0m\n\u001b[1;31mSyntaxError\u001b[0m\u001b[1;31m:\u001b[0m invalid syntax\n"
     ]
    }
   ],
   "source": [
    "ozan nerede = sikişte\n"
   ]
  },
  {
   "cell_type": "code",
   "execution_count": 9,
   "id": "2341d549-abff-48b6-91a1-280ac320f9b3",
   "metadata": {},
   "outputs": [
    {
     "ename": "SyntaxError",
     "evalue": "invalid syntax (3292327912.py, line 1)",
     "output_type": "error",
     "traceback": [
      "\u001b[1;36m  Cell \u001b[1;32mIn[9], line 1\u001b[1;36m\u001b[0m\n\u001b[1;33m    ozann nerede=sikişte\u001b[0m\n\u001b[1;37m          ^\u001b[0m\n\u001b[1;31mSyntaxError\u001b[0m\u001b[1;31m:\u001b[0m invalid syntax\n"
     ]
    }
   ],
   "source": [
    "ozann nerede=sikişte"
   ]
  },
  {
   "cell_type": "code",
   "execution_count": 10,
   "id": "ba85f319-eff3-4c70-b2e4-0c87acb70df6",
   "metadata": {},
   "outputs": [
    {
     "ename": "NameError",
     "evalue": "name 'sikişte' is not defined",
     "output_type": "error",
     "traceback": [
      "\u001b[1;31m---------------------------------------------------------------------------\u001b[0m",
      "\u001b[1;31mNameError\u001b[0m                                 Traceback (most recent call last)",
      "Cell \u001b[1;32mIn[10], line 1\u001b[0m\n\u001b[1;32m----> 1\u001b[0m ozannerede\u001b[38;5;241m=\u001b[39msikişte\n",
      "\u001b[1;31mNameError\u001b[0m: name 'sikişte' is not defined"
     ]
    }
   ],
   "source": [
    "ozannerede=sikişte"
   ]
  },
  {
   "cell_type": "code",
   "execution_count": 11,
   "id": "ba14d05b-5c50-499f-9279-deb6a6ad05dd",
   "metadata": {},
   "outputs": [
    {
     "ename": "NameError",
     "evalue": "name 'ozannerede' is not defined",
     "output_type": "error",
     "traceback": [
      "\u001b[1;31m---------------------------------------------------------------------------\u001b[0m",
      "\u001b[1;31mNameError\u001b[0m                                 Traceback (most recent call last)",
      "Cell \u001b[1;32mIn[11], line 1\u001b[0m\n\u001b[1;32m----> 1\u001b[0m ozannerede\n",
      "\u001b[1;31mNameError\u001b[0m: name 'ozannerede' is not defined"
     ]
    }
   ],
   "source": [
    "ozannerede"
   ]
  },
  {
   "cell_type": "code",
   "execution_count": 12,
   "id": "dec3ec65-9179-413b-a313-e4e14612851c",
   "metadata": {},
   "outputs": [
    {
     "ename": "NameError",
     "evalue": "name 'sikiste' is not defined",
     "output_type": "error",
     "traceback": [
      "\u001b[1;31m---------------------------------------------------------------------------\u001b[0m",
      "\u001b[1;31mNameError\u001b[0m                                 Traceback (most recent call last)",
      "Cell \u001b[1;32mIn[12], line 1\u001b[0m\n\u001b[1;32m----> 1\u001b[0m ozannerede\u001b[38;5;241m=\u001b[39msikiste\n",
      "\u001b[1;31mNameError\u001b[0m: name 'sikiste' is not defined"
     ]
    }
   ],
   "source": [
    "ozannerede=sikiste"
   ]
  },
  {
   "cell_type": "code",
   "execution_count": 14,
   "id": "ded0944e-15d2-4ac4-b368-b3e0a570fab1",
   "metadata": {},
   "outputs": [
    {
     "ename": "NameError",
     "evalue": "name 'kerhanede' is not defined",
     "output_type": "error",
     "traceback": [
      "\u001b[1;31m---------------------------------------------------------------------------\u001b[0m",
      "\u001b[1;31mNameError\u001b[0m                                 Traceback (most recent call last)",
      "Cell \u001b[1;32mIn[14], line 1\u001b[0m\n\u001b[1;32m----> 1\u001b[0m ozannerede\u001b[38;5;241m=\u001b[39mkerhanede\n",
      "\u001b[1;31mNameError\u001b[0m: name 'kerhanede' is not defined"
     ]
    }
   ],
   "source": [
    "ozannerede=kerhanede"
   ]
  },
  {
   "cell_type": "code",
   "execution_count": 15,
   "id": "8e4b9e2f-2b53-4b22-8e2a-da6d8ef85b2e",
   "metadata": {},
   "outputs": [
    {
     "ename": "NameError",
     "evalue": "name 'ozannerede' is not defined",
     "output_type": "error",
     "traceback": [
      "\u001b[1;31m---------------------------------------------------------------------------\u001b[0m",
      "\u001b[1;31mNameError\u001b[0m                                 Traceback (most recent call last)",
      "Cell \u001b[1;32mIn[15], line 1\u001b[0m\n\u001b[1;32m----> 1\u001b[0m ozannerede\n",
      "\u001b[1;31mNameError\u001b[0m: name 'ozannerede' is not defined"
     ]
    }
   ],
   "source": [
    "ozannerede"
   ]
  },
  {
   "cell_type": "code",
   "execution_count": 16,
   "id": "36ed85a4-7516-47a4-af3f-2e13bfa40443",
   "metadata": {},
   "outputs": [],
   "source": [
    "ozannerede=1"
   ]
  },
  {
   "cell_type": "code",
   "execution_count": 17,
   "id": "026c9230-a22e-4c69-9b10-a6df8b283252",
   "metadata": {},
   "outputs": [
    {
     "data": {
      "text/plain": [
       "1"
      ]
     },
     "execution_count": 17,
     "metadata": {},
     "output_type": "execute_result"
    }
   ],
   "source": [
    "ozannerede"
   ]
  },
  {
   "cell_type": "code",
   "execution_count": 18,
   "id": "dcd09db0-f8a5-45c5-88b4-0c0536f0df54",
   "metadata": {},
   "outputs": [],
   "source": [
    "ozannerede=31"
   ]
  },
  {
   "cell_type": "code",
   "execution_count": 19,
   "id": "c5ea14e0-d2c0-4052-b386-1fc8e6ebe15c",
   "metadata": {},
   "outputs": [
    {
     "data": {
      "text/plain": [
       "31"
      ]
     },
     "execution_count": 19,
     "metadata": {},
     "output_type": "execute_result"
    }
   ],
   "source": [
    "ozannerede"
   ]
  },
  {
   "cell_type": "code",
   "execution_count": 20,
   "id": "da2636c1-9723-432e-9a68-5b9d7b6ca39a",
   "metadata": {},
   "outputs": [
    {
     "ename": "SyntaxError",
     "evalue": "invalid syntax (3500619950.py, line 1)",
     "output_type": "error",
     "traceback": [
      "\u001b[1;36m  Cell \u001b[1;32mIn[20], line 1\u001b[1;36m\u001b[0m\n\u001b[1;33m    ozan ne yapıyor=31\u001b[0m\n\u001b[1;37m         ^\u001b[0m\n\u001b[1;31mSyntaxError\u001b[0m\u001b[1;31m:\u001b[0m invalid syntax\n"
     ]
    }
   ],
   "source": [
    "ozan ne yapıyor=31"
   ]
  },
  {
   "cell_type": "code",
   "execution_count": 21,
   "id": "8164daf6-8773-434a-be6a-6a61188d9721",
   "metadata": {},
   "outputs": [],
   "source": [
    "ozanneyapıyor=31"
   ]
  },
  {
   "cell_type": "code",
   "execution_count": 22,
   "id": "db1c053a-693b-42ee-993f-ee028c954075",
   "metadata": {},
   "outputs": [
    {
     "data": {
      "text/plain": [
       "31"
      ]
     },
     "execution_count": 22,
     "metadata": {},
     "output_type": "execute_result"
    }
   ],
   "source": [
    "ozanneyapıyor"
   ]
  },
  {
   "cell_type": "code",
   "execution_count": 23,
   "id": "70fa0c3b-f67d-47d0-999e-343fd6175a82",
   "metadata": {},
   "outputs": [
    {
     "data": {
      "text/plain": [
       "31"
      ]
     },
     "execution_count": 23,
     "metadata": {},
     "output_type": "execute_result"
    }
   ],
   "source": [
    "ozannerede"
   ]
  },
  {
   "cell_type": "code",
   "execution_count": 24,
   "id": "60e139ae-4917-4a4c-81c2-efb491e4e47a",
   "metadata": {},
   "outputs": [
    {
     "data": {
      "text/plain": [
       "31"
      ]
     },
     "execution_count": 24,
     "metadata": {},
     "output_type": "execute_result"
    }
   ],
   "source": [
    "ozannerede"
   ]
  },
  {
   "cell_type": "code",
   "execution_count": 25,
   "id": "fadd9feb-eaba-43d4-87be-7f18c9f6373f",
   "metadata": {},
   "outputs": [
    {
     "ename": "NameError",
     "evalue": "name 'o' is not defined",
     "output_type": "error",
     "traceback": [
      "\u001b[1;31m---------------------------------------------------------------------------\u001b[0m",
      "\u001b[1;31mNameError\u001b[0m                                 Traceback (most recent call last)",
      "Cell \u001b[1;32mIn[25], line 1\u001b[0m\n\u001b[1;32m----> 1\u001b[0m ozankim\u001b[38;5;241m=\u001b[39mo\n",
      "\u001b[1;31mNameError\u001b[0m: name 'o' is not defined"
     ]
    }
   ],
   "source": [
    "ozankim=o"
   ]
  },
  {
   "cell_type": "code",
   "execution_count": 26,
   "id": "ab1a264f-517a-44fe-81b0-76317673b761",
   "metadata": {},
   "outputs": [
    {
     "data": {
      "text/plain": [
       "31"
      ]
     },
     "execution_count": 26,
     "metadata": {},
     "output_type": "execute_result"
    }
   ],
   "source": [
    "ozannerede"
   ]
  },
  {
   "cell_type": "code",
   "execution_count": 27,
   "id": "8d7e117a-2233-4439-a38b-141ee117dae9",
   "metadata": {},
   "outputs": [
    {
     "data": {
      "text/plain": [
       "31"
      ]
     },
     "execution_count": 27,
     "metadata": {},
     "output_type": "execute_result"
    }
   ],
   "source": [
    "ozannerede"
   ]
  },
  {
   "cell_type": "code",
   "execution_count": 28,
   "id": "2026e66e-4ab6-4584-8577-ba08c6e3e351",
   "metadata": {},
   "outputs": [
    {
     "ename": "NameError",
     "evalue": "name 'sikişte' is not defined",
     "output_type": "error",
     "traceback": [
      "\u001b[1;31m---------------------------------------------------------------------------\u001b[0m",
      "\u001b[1;31mNameError\u001b[0m                                 Traceback (most recent call last)",
      "Cell \u001b[1;32mIn[28], line 1\u001b[0m\n\u001b[1;32m----> 1\u001b[0m ozannerede\u001b[38;5;241m=\u001b[39msikişte\n",
      "\u001b[1;31mNameError\u001b[0m: name 'sikişte' is not defined"
     ]
    }
   ],
   "source": [
    "ozannerede=sikişte"
   ]
  },
  {
   "cell_type": "code",
   "execution_count": 29,
   "id": "1e0b0a73-03a5-4fe3-ba77-32ff1c1a6e87",
   "metadata": {},
   "outputs": [],
   "source": [
    "ozannerede='sikişte'"
   ]
  },
  {
   "cell_type": "code",
   "execution_count": 30,
   "id": "2fb6d919-7f77-4297-a18c-081270557e03",
   "metadata": {},
   "outputs": [
    {
     "data": {
      "text/plain": [
       "'sikişte'"
      ]
     },
     "execution_count": 30,
     "metadata": {},
     "output_type": "execute_result"
    }
   ],
   "source": [
    "ozannerede"
   ]
  },
  {
   "cell_type": "code",
   "execution_count": 31,
   "id": "bdb2f33d-3bb4-4d49-a4d7-5afa3d39a59a",
   "metadata": {},
   "outputs": [
    {
     "data": {
      "text/plain": [
       "31"
      ]
     },
     "execution_count": 31,
     "metadata": {},
     "output_type": "execute_result"
    }
   ],
   "source": [
    "ozanneyapıyor"
   ]
  },
  {
   "cell_type": "code",
   "execution_count": 32,
   "id": "0a1ada3b-2e94-454e-8d31-4f2e8bdfc815",
   "metadata": {},
   "outputs": [
    {
     "ename": "NameError",
     "evalue": "name 'sikişmakinesi' is not defined",
     "output_type": "error",
     "traceback": [
      "\u001b[1;31m---------------------------------------------------------------------------\u001b[0m",
      "\u001b[1;31mNameError\u001b[0m                                 Traceback (most recent call last)",
      "Cell \u001b[1;32mIn[32], line 1\u001b[0m\n\u001b[1;32m----> 1\u001b[0m ozankim\u001b[38;5;241m=\u001b[39msikişmakinesi\n",
      "\u001b[1;31mNameError\u001b[0m: name 'sikişmakinesi' is not defined"
     ]
    }
   ],
   "source": [
    "ozankim=sikişmakinesi"
   ]
  },
  {
   "cell_type": "code",
   "execution_count": 33,
   "id": "01f100e6-550d-4916-ba28-92e012084762",
   "metadata": {},
   "outputs": [
    {
     "ename": "SyntaxError",
     "evalue": "invalid syntax (470251576.py, line 1)",
     "output_type": "error",
     "traceback": [
      "\u001b[1;36m  Cell \u001b[1;32mIn[33], line 1\u001b[1;36m\u001b[0m\n\u001b[1;33m    ozankim'sikişmakinesi'\u001b[0m\n\u001b[1;37m           ^\u001b[0m\n\u001b[1;31mSyntaxError\u001b[0m\u001b[1;31m:\u001b[0m invalid syntax\n"
     ]
    }
   ],
   "source": [
    "ozankim'sikişmakinesi'"
   ]
  },
  {
   "cell_type": "code",
   "execution_count": 34,
   "id": "10a80eeb-8ef3-4920-a77c-9826082f175b",
   "metadata": {},
   "outputs": [],
   "source": [
    "ozankim='sikişmakinesi'"
   ]
  },
  {
   "cell_type": "code",
   "execution_count": 35,
   "id": "9ea015a4-2c19-4adc-a5d5-5ffefc9e6ed0",
   "metadata": {},
   "outputs": [
    {
     "data": {
      "text/plain": [
       "'sikişmakinesi'"
      ]
     },
     "execution_count": 35,
     "metadata": {},
     "output_type": "execute_result"
    }
   ],
   "source": [
    "ozankim"
   ]
  },
  {
   "cell_type": "code",
   "execution_count": 36,
   "id": "07fb6625-ebc7-4f3a-9c08-5f6f2005e8cc",
   "metadata": {},
   "outputs": [
    {
     "data": {
      "text/plain": [
       "'sikişte'"
      ]
     },
     "execution_count": 36,
     "metadata": {},
     "output_type": "execute_result"
    }
   ],
   "source": [
    "ozannerede"
   ]
  },
  {
   "cell_type": "code",
   "execution_count": 37,
   "id": "207abacb-1b9e-45ef-b5f4-badb29c74711",
   "metadata": {},
   "outputs": [
    {
     "data": {
      "text/plain": [
       "31"
      ]
     },
     "execution_count": 37,
     "metadata": {},
     "output_type": "execute_result"
    }
   ],
   "source": [
    "ozanneyapıyor"
   ]
  },
  {
   "cell_type": "code",
   "execution_count": null,
   "id": "9b75c622-c43e-4aa1-a6d9-f3aa7c6e739e",
   "metadata": {},
   "outputs": [],
   "source": []
  },
  {
   "cell_type": "code",
   "execution_count": null,
   "id": "c106a7b8-edce-4786-a16a-a87620097083",
   "metadata": {},
   "outputs": [],
   "source": []
  },
  {
   "cell_type": "code",
   "execution_count": null,
   "id": "692c5c3d-3d22-4200-a5b6-d472d15b21c9",
   "metadata": {},
   "outputs": [],
   "source": []
  },
  {
   "cell_type": "code",
   "execution_count": null,
   "id": "3e0cde53-a8a7-4007-b00b-7d248861d7d2",
   "metadata": {},
   "outputs": [],
   "source": []
  },
  {
   "cell_type": "code",
   "execution_count": null,
   "id": "a112d4a2-d0fb-406d-9c7a-e32680b16f5f",
   "metadata": {},
   "outputs": [],
   "source": []
  },
  {
   "cell_type": "code",
   "execution_count": null,
   "id": "9d9f3dc2-1ee6-4130-8b91-67c84a815365",
   "metadata": {},
   "outputs": [],
   "source": []
  },
  {
   "cell_type": "code",
   "execution_count": null,
   "id": "a4ae2855-6e52-48fb-b595-7d26da2a3925",
   "metadata": {},
   "outputs": [],
   "source": []
  },
  {
   "cell_type": "code",
   "execution_count": null,
   "id": "9a96e385-28a1-4f46-a00c-b3434be91cea",
   "metadata": {},
   "outputs": [],
   "source": []
  },
  {
   "cell_type": "code",
   "execution_count": null,
   "id": "411e7ade-8495-4965-976b-c1b4d9ef65b4",
   "metadata": {},
   "outputs": [],
   "source": []
  },
  {
   "cell_type": "code",
   "execution_count": null,
   "id": "0ef89ef7-202e-482b-a993-a2e63af35947",
   "metadata": {},
   "outputs": [],
   "source": []
  },
  {
   "cell_type": "code",
   "execution_count": null,
   "id": "cbf509e9-82c8-4a1d-97f1-1e34a9c4305b",
   "metadata": {},
   "outputs": [],
   "source": []
  },
  {
   "cell_type": "code",
   "execution_count": null,
   "id": "35414364-10b6-4a12-bef3-90e82b189a35",
   "metadata": {},
   "outputs": [],
   "source": []
  },
  {
   "cell_type": "code",
   "execution_count": 38,
   "id": "ce01be7e-6949-44d0-937c-8f757edc83df",
   "metadata": {},
   "outputs": [
    {
     "data": {
      "text/plain": [
       "'sikişmakinesi'"
      ]
     },
     "execution_count": 38,
     "metadata": {},
     "output_type": "execute_result"
    }
   ],
   "source": [
    "ozankim"
   ]
  },
  {
   "cell_type": "code",
   "execution_count": 39,
   "id": "2d05b38f-83e2-46e2-b6dd-bfac791be417",
   "metadata": {},
   "outputs": [
    {
     "data": {
      "text/plain": [
       "'sikişte'"
      ]
     },
     "execution_count": 39,
     "metadata": {},
     "output_type": "execute_result"
    }
   ],
   "source": [
    "ozannerede"
   ]
  },
  {
   "cell_type": "code",
   "execution_count": 40,
   "id": "d3b8beb6-654c-464e-a6d7-34f008bf57e2",
   "metadata": {},
   "outputs": [
    {
     "data": {
      "text/plain": [
       "31"
      ]
     },
     "execution_count": 40,
     "metadata": {},
     "output_type": "execute_result"
    }
   ],
   "source": [
    "ozanneyapıyor"
   ]
  },
  {
   "cell_type": "code",
   "execution_count": null,
   "id": "245c083a-0e49-4245-b8c2-1955d75dc3f4",
   "metadata": {},
   "outputs": [],
   "source": []
  }
 ],
 "metadata": {
  "kernelspec": {
   "display_name": "Python 3 (ipykernel)",
   "language": "python",
   "name": "python3"
  },
  "language_info": {
   "codemirror_mode": {
    "name": "ipython",
    "version": 3
   },
   "file_extension": ".py",
   "mimetype": "text/x-python",
   "name": "python",
   "nbconvert_exporter": "python",
   "pygments_lexer": "ipython3",
   "version": "3.11.7"
  }
 },
 "nbformat": 4,
 "nbformat_minor": 5
}
